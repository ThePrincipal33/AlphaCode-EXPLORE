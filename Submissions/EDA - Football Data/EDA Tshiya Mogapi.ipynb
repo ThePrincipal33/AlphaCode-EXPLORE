{
 "cells": [
  {
   "cell_type": "code",
   "execution_count": 1,
   "metadata": {},
   "outputs": [
    {
     "name": "stderr",
     "output_type": "stream",
     "text": [
      "C:\\ProgramData\\Anaconda3\\lib\\site-packages\\IPython\\core\\interactiveshell.py:3020: DtypeWarning: Columns (14,26) have mixed types. Specify dtype option on import or set low_memory=False.\n",
      "  interactivity=interactivity, compiler=compiler, result=result)\n"
     ]
    }
   ],
   "source": [
    "import pandas as pd\n",
    "\n",
    "# Load data - pass 'Name' as our index column\n",
    "load_df = pd.read_csv('football_players.csv', index_col='Name').sample(frac=1)\n",
    "\n",
    "# Create dataframe called df\n",
    "df = pd.DataFrame(load_df)"
   ]
  },
  {
   "cell_type": "code",
   "execution_count": 2,
   "metadata": {},
   "outputs": [],
   "source": [
    "def position_type(s):\n",
    "    \n",
    "    \"\"\"This function converts the individual positions (abbreviations) and classfies it\n",
    "    as either a forward, midfielder, back or goal keeper\"\"\"\n",
    "    \n",
    "    if (s[-2] == 'T') | (s[-2] == 'W'):\n",
    "        return 'Forward'\n",
    "    elif s[-2] == 'M':\n",
    "        return 'Midfielder'\n",
    "    elif s[-2] == 'B':\n",
    "        return 'Back'\n",
    "    else:\n",
    "        return 'GoalKeeper'\n",
    "\n",
    "# Create position type column\n",
    "df['Preferred Positions Type'] = df['Preferred Positions'].apply(position_type)"
   ]
  },
  {
   "cell_type": "code",
   "execution_count": 3,
   "metadata": {},
   "outputs": [],
   "source": [
    "# Select all attribute columns\n",
    "cols = ['Overall', 'Acceleration', 'Aggression',\n",
    "       'Agility', 'Balance', 'Ball control', 'Composure', 'Crossing', 'Curve',\n",
    "       'Dribbling', 'Finishing', 'Free kick accuracy', 'GK diving',\n",
    "       'GK handling', 'GK kicking', 'GK positioning', 'GK reflexes',\n",
    "       'Heading accuracy', 'Interceptions', 'Jumping', 'Long passing',\n",
    "       'Long shots', 'Marking', 'Penalties', 'Positioning', 'Reactions',\n",
    "       'Short passing', 'Shot power', 'Sliding tackle', 'Sprint speed',\n",
    "       'Stamina', 'Standing tackle', 'Strength', 'Vision', 'Volleys']\n",
    "\n",
    "def to_float(x):    \n",
    "    \"Transforms attribute columns to type float\"\n",
    "    \n",
    "    if type(x) is int:\n",
    "        return float(x)\n",
    "    else:\n",
    "        return float(x[0:2])\n",
    "\n",
    "df[cols] = df[cols].applymap(to_float)"
   ]
  },
  {
   "cell_type": "code",
   "execution_count": 4,
   "metadata": {},
   "outputs": [],
   "source": [
    "### START FUNCTION 9\n",
    "\n",
    "def best_team_3(country, no_attackers, no_defenders, no_midfielders, no_goalkeepers):\n",
    "    \n",
    "    # YOUR CODE HERE\n",
    "    df_F = df[df['Nationality']== country].sort_values(by=['Overall','Name'],ascending= False)\n",
    "    df_A = df[(df['Preferred Positions Type']=='Forward') & (df['Nationality']== country) ].head(no_attackers)\n",
    "    df_D = df[(df['Preferred Positions Type']=='Back') & (df['Nationality']== country)].head(no_defenders)\n",
    "    df_M = df[(df['Preferred Positions Type']=='Midfielder')& (df['Nationality']== country)].head(no_midfielders)\n",
    "    df_G = df[(df['Preferred Positions Type']=='GoalKeeper') & (df['Nationality']== country)].head(no_goalkeepers)\n",
    "    \n",
    "    df_team = df_A.append(df_D).append(df_M).append(df_G)\n",
    "    \n",
    "    #Team = []\n",
    "    #for i in df_team.index:\n",
    "        #Team.append(i)\n",
    "        \n",
    "    return list(df_team.index[:]) \n",
    "\n",
    "    raise NotImplementedError()\n",
    "    \n",
    "### END FUNCTION 9"
   ]
  },
  {
   "cell_type": "code",
   "execution_count": 5,
   "metadata": {},
   "outputs": [
    {
     "name": "stdout",
     "output_type": "stream",
     "text": [
      "<class 'pandas.core.frame.DataFrame'>\n",
      "Index: 17981 entries, D. Vambolt to X. Schlager\n",
      "Data columns (total 39 columns):\n",
      "Age                         17981 non-null int64\n",
      "Nationality                 17981 non-null object\n",
      "Overall                     17981 non-null float64\n",
      "Acceleration                17981 non-null float64\n",
      "Aggression                  17981 non-null float64\n",
      "Agility                     17981 non-null float64\n",
      "Balance                     17981 non-null float64\n",
      "Ball control                17981 non-null float64\n",
      "Composure                   17981 non-null float64\n",
      "Crossing                    17981 non-null float64\n",
      "Curve                       17981 non-null float64\n",
      "Dribbling                   17981 non-null float64\n",
      "Finishing                   17981 non-null float64\n",
      "Free kick accuracy          17981 non-null float64\n",
      "GK diving                   17981 non-null float64\n",
      "GK handling                 17981 non-null float64\n",
      "GK kicking                  17981 non-null float64\n",
      "GK positioning              17981 non-null float64\n",
      "GK reflexes                 17981 non-null float64\n",
      "Heading accuracy            17981 non-null float64\n",
      "Interceptions               17981 non-null float64\n",
      "Jumping                     17981 non-null float64\n",
      "Long passing                17981 non-null float64\n",
      "Long shots                  17981 non-null float64\n",
      "Marking                     17981 non-null float64\n",
      "Penalties                   17981 non-null float64\n",
      "Positioning                 17981 non-null float64\n",
      "Reactions                   17981 non-null float64\n",
      "Short passing               17981 non-null float64\n",
      "Shot power                  17981 non-null float64\n",
      "Sliding tackle              17981 non-null float64\n",
      "Sprint speed                17981 non-null float64\n",
      "Stamina                     17981 non-null float64\n",
      "Standing tackle             17981 non-null float64\n",
      "Strength                    17981 non-null float64\n",
      "Vision                      17981 non-null float64\n",
      "Volleys                     17981 non-null float64\n",
      "Preferred Positions         17981 non-null object\n",
      "Preferred Positions Type    17981 non-null object\n",
      "dtypes: float64(35), int64(1), object(3)\n",
      "memory usage: 5.5+ MB\n"
     ]
    }
   ],
   "source": [
    "df.info()"
   ]
  },
  {
   "cell_type": "code",
   "execution_count": 7,
   "metadata": {},
   "outputs": [
    {
     "ename": "SyntaxError",
     "evalue": "invalid syntax (<ipython-input-7-92b9edf97ab3>, line 1)",
     "output_type": "error",
     "traceback": [
      "\u001b[1;36m  File \u001b[1;32m\"<ipython-input-7-92b9edf97ab3>\"\u001b[1;36m, line \u001b[1;32m1\u001b[0m\n\u001b[1;33m    df.index(:)\u001b[0m\n\u001b[1;37m             ^\u001b[0m\n\u001b[1;31mSyntaxError\u001b[0m\u001b[1;31m:\u001b[0m invalid syntax\n"
     ]
    }
   ],
   "source": [
    "df.index(:)"
   ]
  },
  {
   "cell_type": "code",
   "execution_count": null,
   "metadata": {},
   "outputs": [],
   "source": []
  }
 ],
 "metadata": {
  "kernelspec": {
   "display_name": "Python 3",
   "language": "python",
   "name": "python3"
  },
  "language_info": {
   "codemirror_mode": {
    "name": "ipython",
    "version": 3
   },
   "file_extension": ".py",
   "mimetype": "text/x-python",
   "name": "python",
   "nbconvert_exporter": "python",
   "pygments_lexer": "ipython3",
   "version": "3.7.1"
  }
 },
 "nbformat": 4,
 "nbformat_minor": 2
}
